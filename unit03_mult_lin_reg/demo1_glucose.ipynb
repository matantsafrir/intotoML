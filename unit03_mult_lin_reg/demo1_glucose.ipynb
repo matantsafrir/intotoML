{
  "cells": [
    {
      "cell_type": "markdown",
      "metadata": {
        "id": "PqA0vrUlBwvh"
      },
      "source": [
        "# Demo:  Predicting Glucose Levels using Mulitple Linear Regression"
      ]
    },
    {
      "cell_type": "markdown",
      "metadata": {
        "id": "I-Naq77aBwvi"
      },
      "source": [
        "In this demo, you will learn how to:\n",
        "* Fit multiple linear regression models using python's `sklearn` pachage.  \n",
        "* Split data into training and test.\n",
        "* Manipulate and visualize multivariable arrays.\n",
        "\n",
        "We first load the packages as usual."
      ]
    },
    {
      "cell_type": "code",
      "execution_count": 1,
      "metadata": {
        "id": "Z2R8-LKIBwvi"
      },
      "outputs": [],
      "source": [
        "import numpy as np\n",
        "import matplotlib\n",
        "import matplotlib.pyplot as plt\n",
        "%matplotlib inline"
      ]
    },
    {
      "cell_type": "markdown",
      "metadata": {
        "id": "UU18ujwzBwvi"
      },
      "source": [
        "## Diabetes Data Example\n",
        "To illustrate the concepts, we load the well-known diabetes data set.  This dataset is included in the `sklearn.datasets` module and can be loaded as follows."
      ]
    },
    {
      "cell_type": "code",
      "execution_count": 2,
      "metadata": {
        "id": "VCTAFXcbBwvi"
      },
      "outputs": [],
      "source": [
        "from sklearn import datasets, linear_model\n",
        "\n",
        "# Load the diabetes dataset\n",
        "diabetes = datasets.load_diabetes()\n",
        "X = diabetes.data\n",
        "y = diabetes.target"
      ]
    },
    {
      "cell_type": "markdown",
      "metadata": {
        "id": "H1lOykgoBwvj"
      },
      "source": [
        "We can print a description of the data as follows:"
      ]
    },
    {
      "cell_type": "code",
      "execution_count": 3,
      "metadata": {
        "id": "3cvW3SaGBwvj",
        "outputId": "0693f3c8-5c64-4899-bb0b-2ba75950c82f",
        "colab": {
          "base_uri": "https://localhost:8080/"
        }
      },
      "outputs": [
        {
          "output_type": "stream",
          "name": "stdout",
          "text": [
            ".. _diabetes_dataset:\n",
            "\n",
            "Diabetes dataset\n",
            "----------------\n",
            "\n",
            "Ten baseline variables, age, sex, body mass index, average blood\n",
            "pressure, and six blood serum measurements were obtained for each of n =\n",
            "442 diabetes patients, as well as the response of interest, a\n",
            "quantitative measure of disease progression one year after baseline.\n",
            "\n",
            "**Data Set Characteristics:**\n",
            "\n",
            ":Number of Instances: 442\n",
            "\n",
            ":Number of Attributes: First 10 columns are numeric predictive values\n",
            "\n",
            ":Target: Column 11 is a quantitative measure of disease progression one year after baseline\n",
            "\n",
            ":Attribute Information:\n",
            "    - age     age in years\n",
            "    - sex\n",
            "    - bmi     body mass index\n",
            "    - bp      average blood pressure\n",
            "    - s1      tc, total serum cholesterol\n",
            "    - s2      ldl, low-density lipoproteins\n",
            "    - s3      hdl, high-density lipoproteins\n",
            "    - s4      tch, total cholesterol / HDL\n",
            "    - s5      ltg, possibly log of serum triglycerides level\n",
            "    - s6      glu, blood sugar level\n",
            "\n",
            "Note: Each of these 10 feature variables have been mean centered and scaled by the standard deviation times the square root of `n_samples` (i.e. the sum of squares of each column totals 1).\n",
            "\n",
            "Source URL:\n",
            "https://www4.stat.ncsu.edu/~boos/var.select/diabetes.html\n",
            "\n",
            "For more information see:\n",
            "Bradley Efron, Trevor Hastie, Iain Johnstone and Robert Tibshirani (2004) \"Least Angle Regression,\" Annals of Statistics (with discussion), 407-499.\n",
            "(https://web.stanford.edu/~hastie/Papers/LARS/LeastAngle_2002.pdf)\n",
            "\n"
          ]
        }
      ],
      "source": [
        "print(diabetes.DESCR)"
      ]
    },
    {
      "cell_type": "markdown",
      "metadata": {
        "id": "ppmydz1jBwvj"
      },
      "source": [
        "The target values are stored in the vector `y`.  The attributes for the diabetes data are stored in a data matrix, `X`.  The size is is number of samples (442) x number of attributes (10)."
      ]
    },
    {
      "cell_type": "code",
      "execution_count": 8,
      "metadata": {
        "id": "zZu2hX5cBwvj",
        "outputId": "fd714805-13df-4747-acc5-8c2a01f1e704",
        "colab": {
          "base_uri": "https://localhost:8080/"
        }
      },
      "outputs": [
        {
          "output_type": "stream",
          "name": "stdout",
          "text": [
            "num samples=442  num attributes=10\n"
          ]
        }
      ],
      "source": [
        "nsamp, natt = X.shape\n",
        "print(\"num samples={0:d}  num attributes={1:d}\".format(nsamp,natt))"
      ]
    },
    {
      "cell_type": "markdown",
      "metadata": {
        "id": "hL_YeTCkBwvj"
      },
      "source": [
        "In class exercise: Print the (normalized) ages of the first 5 subjects?"
      ]
    },
    {
      "cell_type": "code",
      "execution_count": 16,
      "metadata": {
        "id": "tKP_9v0ZBwvj",
        "outputId": "13c27396-46e3-4d7b-e266-e41619364907",
        "colab": {
          "base_uri": "https://localhost:8080/"
        }
      },
      "outputs": [
        {
          "output_type": "stream",
          "name": "stdout",
          "text": [
            "[ 0.03807591 -0.00188202  0.08529891 -0.08906294  0.00538306]\n"
          ]
        }
      ],
      "source": [
        "print(X[:5,0])"
      ]
    },
    {
      "cell_type": "markdown",
      "metadata": {
        "id": "2KjBUbhsBwvj"
      },
      "source": [
        "In-class exercise:   Print the attributes S1-S3 for subjects 10-15"
      ]
    },
    {
      "cell_type": "code",
      "execution_count": 17,
      "metadata": {
        "id": "fGy4UzWsBwvj",
        "outputId": "b76570a0-aaf0-41cd-f3c7-6429645f2092",
        "colab": {
          "base_uri": "https://localhost:8080/"
        }
      },
      "outputs": [
        {
          "output_type": "stream",
          "name": "stdout",
          "text": [
            "[[-1.25765827e-02 -3.45076144e-02 -2.49926566e-02]\n",
            " [-1.03389471e-01 -9.05611890e-02 -1.39477432e-02]\n",
            " [-7.07277125e-03  4.59715403e-02 -6.54906725e-02]\n",
            " [-4.32086554e-03 -9.76888589e-03  4.49584616e-02]\n",
            " [-4.32086554e-03 -1.57187067e-02 -2.90282981e-03]\n",
            " [ 1.76943802e-02 -6.12835791e-05  8.17748397e-02]]\n"
          ]
        }
      ],
      "source": [
        "print(X[9:15,4:7])"
      ]
    },
    {
      "cell_type": "markdown",
      "metadata": {
        "id": "0as6SGTPBwvj"
      },
      "source": [
        "In class exercise:  Create a scatter plot of the target variable, `y` vs. the BMI.  Does there seem to be a relation?  What about `y` vs. the age?  Which is a better predictor?  "
      ]
    },
    {
      "cell_type": "code",
      "execution_count": 23,
      "metadata": {
        "id": "4YukQF9oBwvj",
        "outputId": "235ea0e5-4ce8-492d-e019-054b37a4353f",
        "colab": {
          "base_uri": "https://localhost:8080/",
          "height": 449
        }
      },
      "outputs": [
        {
          "output_type": "display_data",
          "data": {
            "text/plain": [
              "<Figure size 640x480 with 1 Axes>"
            ],
            "image/png": "[encoded data removed]"
          },
          "metadata": {}
        }
      ],
      "source": [
        "import numpy as np\n",
        "import matplotlib.pyplot as plt\n",
        "x_data=X[:,2]\n",
        "y_data=y\n",
        "plt.scatter(x_data, y_data, c=\"blue\")\n",
        "\n",
        "plt.xlabel(\"BMI\")\n",
        "plt.ylabel(\"target\")\n",
        "\n",
        "plt.show()"
      ]
    },
    {
      "cell_type": "markdown",
      "metadata": {
        "id": "Jfjsy2DcBwvj"
      },
      "source": [
        "## Using Simple Linear Regression for Each Feature Individually\n",
        "\n",
        "As a first attempt to predict the glucouse level, we could try *one attribute at a time*.  That is, for each attribute $x_k$, we could attempt to fit a [simple linear regression](../simp_lin_reg/readme.md) model:\n",
        "$$ \\hat{y} = \\beta_{0,k} + \\beta_{1,k}x_k$$\n",
        "where $\\beta_{0,k}$ and $\\beta_{1,k}$ are the coefficients in the simple linear regression model using only the attribute $x_k$.\n",
        "\n",
        "Now, we saw in class, that the goodness of fit in a simple linear regression model is given by the coefficient of determination.  Let $R_k^2$ be the coefficient for predicting $y$ from the $k$-th predictor $x_k$:\n",
        "$$R^2_k = \\frac{|s_{x_k,y}|^2}{s_{x_k}^2 s_y^2}.$$\n",
        "The following code computes $R^2_k$ for each variable $k$ as well as the coefficients in the linear model, $\\beta_{0,k}$ and $\\beta_{1,k}$"
      ]
    },
    {
      "cell_type": "code",
      "execution_count": 24,
      "metadata": {
        "scrolled": true,
        "id": "qPXY8BEABwvk",
        "outputId": "32f0f284-da2a-404f-9076-e3b44ad17497",
        "colab": {
          "base_uri": "https://localhost:8080/"
        }
      },
      "outputs": [
        {
          "output_type": "stream",
          "name": "stdout",
          "text": [
            " 0 Rsq=0.035302 beta0=152.133484 beta1=304.183075\n",
            " 1 Rsq=0.001854 beta0=152.133484 beta1=69.715356\n",
            " 2 Rsq=0.343924 beta0=152.133484 beta1=949.435260\n",
            " 3 Rsq=0.194906 beta0=152.133484 beta1=714.738259\n",
            " 4 Rsq=0.044954 beta0=152.133484 beta1=343.254452\n",
            " 5 Rsq=0.030295 beta0=152.133484 beta1=281.784593\n",
            " 6 Rsq=0.155859 beta0=152.133484 beta1=-639.145279\n",
            " 7 Rsq=0.185290 beta0=152.133484 beta1=696.883030\n",
            " 8 Rsq=0.320223 beta0=152.133484 beta1=916.137375\n",
            " 9 Rsq=0.146294 beta0=152.133484 beta1=619.222821\n"
          ]
        }
      ],
      "source": [
        "ym = np.mean(y)\n",
        "syy = np.mean((y-ym)**2)\n",
        "Rsq = np.zeros(natt)\n",
        "beta0 = np.zeros(natt)\n",
        "beta1 = np.zeros(natt)\n",
        "for k in range(natt):\n",
        "    xm = np.mean(X[:,k])\n",
        "    sxy = np.mean((X[:,k]-xm)*(y-ym))\n",
        "    sxx = np.mean((X[:,k]-xm)**2)\n",
        "    beta1[k] = sxy/sxx\n",
        "    beta0[k] = ym - beta1[k]*xm\n",
        "    Rsq[k] = (sxy)**2/sxx/syy\n",
        "\n",
        "    print(\"{0:2d} Rsq={1:f} beta0={2:f} beta1={3:f}\".format(k,Rsq[k],beta0[k],beta1[k]))\n",
        ""
      ]
    },
    {
      "cell_type": "markdown",
      "metadata": {
        "id": "J6yzDk2ABwvk"
      },
      "source": [
        "We see that the best $R^2_k = 0.34$.  That is, only about 34% of the variance is explained by a linear model with any one variable.  We can see this somewhat poor fit in the scatter plot as well where there is a significat variation from the regression line.\n",
        "Also notice that beta0 are all the same no matter which attribute is used to predict the target!"
      ]
    },
    {
      "cell_type": "code",
      "execution_count": 25,
      "metadata": {
        "id": "zcefB0RQBwvk",
        "outputId": "2f0bfd84-cc56-4589-f5fd-0af7596f72cc",
        "colab": {
          "base_uri": "https://localhost:8080/",
          "height": 430
        }
      },
      "outputs": [
        {
          "output_type": "display_data",
          "data": {
            "text/plain": [
              "<Figure size 640x480 with 1 Axes>"
            ],
            "image/png": "[encoded data removed]"
          },
          "metadata": {}
        }
      ],
      "source": [
        "# Find the index of the single variable with the best R^2\n",
        "imax = np.argmax(Rsq)\n",
        "\n",
        "# Regression line over the range of x values\n",
        "xmin = np.min(X[:,imax])\n",
        "xmax = np.max(X[:,imax])\n",
        "ymin = beta0[imax] + beta1[imax]*xmin\n",
        "ymax = beta0[imax] + beta1[imax]*xmax\n",
        "plt.plot([xmin,xmax], [ymin,ymax], 'r-', linewidth=3)\n",
        "\n",
        "# Scatter plot of points\n",
        "plt.scatter(X[:,imax],y)\n",
        "plt.grid()"
      ]
    },
    {
      "cell_type": "markdown",
      "metadata": {
        "id": "2328MiJtBwvk"
      },
      "source": [
        "Note that the calculations above could have been done without a for-loop using Python broadcasting:"
      ]
    },
    {
      "cell_type": "code",
      "execution_count": 26,
      "metadata": {
        "id": "c5QfmejiBwvk"
      },
      "outputs": [],
      "source": [
        "# Remove the means\n",
        "ym = np.mean(y)\n",
        "y1 = y-ym  # a column vecotor each minus mean\n",
        "Xm = np.mean(X,axis=0) # averaging over column, resulting a row vector of dimension natt\n",
        "X1 = X - Xm[None,:] # minus the same mean in each column\n",
        "\n",
        "# Compute the correlations per features\n",
        "syy = np.mean(y1**2)\n",
        "Sxx = np.mean(X1**2,axis=0) #a row vector with each element indicating the variance of one attribute\n",
        "Sxy = np.mean(X1*y1[:,None],axis=0) #a row vector with each element indicating the covarance on one attribute to the targer\n",
        "\n",
        "# Compute the coefficients and R^2 value per feature\n",
        "beta1 = Sxy/Sxx # element wise division, resulting a row vector containing  beta1 for each attribute\n",
        "beta0 = ym - beta1*Xm # element wise multiplication, resulting a row vector containing beta0 for each attribute\n",
        "Rsq = Sxy**2/Sxx/syy #a row vector containing Rsq for each attribute"
      ]
    },
    {
      "cell_type": "markdown",
      "metadata": {
        "id": "XX-WGrIJBwvk"
      },
      "source": [
        "Now let us see whether we get the same result:"
      ]
    },
    {
      "cell_type": "code",
      "execution_count": 27,
      "metadata": {
        "id": "ACQoKtpCBwvk",
        "outputId": "c9d3ee3e-47a7-4687-d198-07d919782dd0",
        "colab": {
          "base_uri": "https://localhost:8080/"
        }
      },
      "outputs": [
        {
          "output_type": "stream",
          "name": "stdout",
          "text": [
            " 0 Rsq=0.035302 beta0=152.133484 beta1=304.183075\n",
            " 1 Rsq=0.001854 beta0=152.133484 beta1=69.715356\n",
            " 2 Rsq=0.343924 beta0=152.133484 beta1=949.435260\n",
            " 3 Rsq=0.194906 beta0=152.133484 beta1=714.738259\n",
            " 4 Rsq=0.044954 beta0=152.133484 beta1=343.254452\n",
            " 5 Rsq=0.030295 beta0=152.133484 beta1=281.784593\n",
            " 6 Rsq=0.155859 beta0=152.133484 beta1=-639.145279\n",
            " 7 Rsq=0.185290 beta0=152.133484 beta1=696.883030\n",
            " 8 Rsq=0.320223 beta0=152.133484 beta1=916.137375\n",
            " 9 Rsq=0.146294 beta0=152.133484 beta1=619.222821\n"
          ]
        }
      ],
      "source": [
        "for k in range(natt):\n",
        "    print(\"{0:2d} Rsq={1:f} beta0={2:f} beta1={3:f}\".format(k,Rsq[k],beta0[k],beta1[k]))"
      ]
    },
    {
      "cell_type": "markdown",
      "metadata": {
        "id": "Y5Qdoz5gBwvk"
      },
      "source": [
        "## Improvements with a Multiple Variable Linear Model\n",
        "\n",
        "One possible way to try to improve the fit is to use multiple variables at the same time.  We can fit the multipe linear model using the `sklearn` package.  \n",
        "\n",
        "For reasons that we will explain in the next demo, we need to split the data into two parts:  one part for training the model and a second part for testing the fit.  In this example, we will use `ns_test=300` samples for training and the remaining `ns_test=442-300=142` for testing."
      ]
    },
    {
      "cell_type": "code",
      "execution_count": 28,
      "metadata": {
        "id": "Euvql2bCBwvk"
      },
      "outputs": [],
      "source": [
        "ns_train = 300\n",
        "ns_test = nsamp - ns_train\n",
        "X_tr = X[:ns_train,:]     # Gets the first ns_train rows of X\n",
        "y_tr = y[:ns_train]       # Gets the correspoinding rows of y"
      ]
    },
    {
      "cell_type": "markdown",
      "metadata": {
        "id": "nAmAsqMZBwvk"
      },
      "source": [
        "To fit the linear model, we first create a regression object and then fit the data with regression object."
      ]
    },
    {
      "cell_type": "code",
      "execution_count": 29,
      "metadata": {
        "id": "GAPOI-5QBwvk",
        "outputId": "0636a671-75f4-48e1-8380-bd7b33d625e6",
        "colab": {
          "base_uri": "https://localhost:8080/",
          "height": 80
        }
      },
      "outputs": [
        {
          "output_type": "execute_result",
          "data": {
            "text/plain": [
              "LinearRegression()"
            ],
            "text/html": [
              "<style>#sk-container-id-1 {\n",
              "  /* Definition of color scheme common for light and dark mode */\n",
              "  --sklearn-color-text: #000;\n",
              "  --sklearn-color-text-muted: #666;\n",
              "  --sklearn-color-line: gray;\n",
              "  /* Definition of color scheme for unfitted estimators */\n",
              "  --sklearn-color-unfitted-level-0: #fff5e6;\n",
              "  --sklearn-color-unfitted-level-1: #f6e4d2;\n",
              "  --sklearn-color-unfitted-level-2: #ffe0b3;\n",
              "  --sklearn-color-unfitted-level-3: chocolate;\n",
              "  /* Definition of color scheme for fitted estimators */\n",
              "  --sklearn-color-fitted-level-0: #f0f8ff;\n",
              "  --sklearn-color-fitted-level-1: #d4ebff;\n",
              "  --sklearn-color-fitted-level-2: #b3dbfd;\n",
              "  --sklearn-color-fitted-level-3: cornflowerblue;\n",
              "\n",
              "  /* Specific color for light theme */\n",
              "  --sklearn-color-text-on-default-background: var(--sg-text-color, var(--theme-code-foreground, var(--jp-content-font-color1, black)));\n",
              "  --sklearn-color-background: var(--sg-background-color, var(--theme-background, var(--jp-layout-color0, white)));\n",
              "  --sklearn-color-border-box: var(--sg-text-color, var(--theme-code-foreground, var(--jp-content-font-color1, black)));\n",
              "  --sklearn-color-icon: #696969;\n",
              "\n",
              "  @media (prefers-color-scheme: dark) {\n",
              "    /* Redefinition of color scheme for dark theme */\n",
              "    --sklearn-color-text-on-default-background: var(--sg-text-color, var(--theme-code-foreground, var(--jp-content-font-color1, white)));\n",
              "    --sklearn-color-background: var(--sg-background-color, var(--theme-background, var(--jp-layout-color0, #111)));\n",
              "    --sklearn-color-border-box: var(--sg-text-color, var(--theme-code-foreground, var(--jp-content-font-color1, white)));\n",
              "    --sklearn-color-icon: #878787;\n",
              "  }\n",
              "}\n",
              "\n",
              "#sk-container-id-1 {\n",
              "  color: var(--sklearn-color-text);\n",
              "}\n",
              "\n",
              "#sk-container-id-1 pre {\n",
              "  padding: 0;\n",
              "}\n",
              "\n",
              "#sk-container-id-1 input.sk-hidden--visually {\n",
              "  border: 0;\n",
              "  clip: rect(1px 1px 1px 1px);\n",
              "  clip: rect(1px, 1px, 1px, 1px);\n",
              "  height: 1px;\n",
              "  margin: -1px;\n",
              "  overflow: hidden;\n",
              "  padding: 0;\n",
              "  position: absolute;\n",
              "  width: 1px;\n",
              "}\n",
              "\n",
              "#sk-container-id-1 div.sk-dashed-wrapped {\n",
              "  border: 1px dashed var(--sklearn-color-line);\n",
              "  margin: 0 0.4em 0.5em 0.4em;\n",
              "  box-sizing: border-box;\n",
              "  padding-bottom: 0.4em;\n",
              "  background-color: var(--sklearn-color-background);\n",
              "}\n",
              "\n",
              "#sk-container-id-1 div.sk-container {\n",
              "  /* jupyter's `normalize.less` sets `[hidden] { display: none; }`\n",
              "     but bootstrap.min.css set `[hidden] { display: none !important; }`\n",
              "     so we also need the `!important` here to be able to override the\n",
              "     default hidden behavior on the sphinx rendered scikit-learn.org.\n",
              "     See: https://github.com/scikit-learn/scikit-learn/issues/21755 */\n",
              "  display: inline-block !important;\n",
              "  position: relative;\n",
              "}\n",
              "\n",
              "#sk-container-id-1 div.sk-text-repr-fallback {\n",
              "  display: none;\n",
              "}\n",
              "\n",
              "div.sk-parallel-item,\n",
              "div.sk-serial,\n",
              "div.sk-item {\n",
              "  /* draw centered vertical line to link estimators */\n",
              "  background-image: linear-gradient(var(--sklearn-color-text-on-default-background), var(--sklearn-color-text-on-default-background));\n",
              "  background-size: 2px 100%;\n",
              "  background-repeat: no-repeat;\n",
              "  background-position: center center;\n",
              "}\n",
              "\n",
              "/* Parallel-specific style estimator block */\n",
              "\n",
              "#sk-container-id-1 div.sk-parallel-item::after {\n",
              "  content: \"\";\n",
              "  width: 100%;\n",
              "  border-bottom: 2px solid var(--sklearn-color-text-on-default-background);\n",
              "  flex-grow: 1;\n",
              "}\n",
              "\n",
              "#sk-container-id-1 div.sk-parallel {\n",
              "  display: flex;\n",
              "  align-items: stretch;\n",
              "  justify-content: center;\n",
              "  background-color: var(--sklearn-color-background);\n",
              "  position: relative;\n",
              "}\n",
              "\n",
              "#sk-container-id-1 div.sk-parallel-item {\n",
              "  display: flex;\n",
              "  flex-direction: column;\n",
              "}\n",
              "\n",
              "#sk-container-id-1 div.sk-parallel-item:first-child::after {\n",
              "  align-self: flex-end;\n",
              "  width: 50%;\n",
              "}\n",
              "\n",
              "#sk-container-id-1 div.sk-parallel-item:last-child::after {\n",
              "  align-self: flex-start;\n",
              "  width: 50%;\n",
              "}\n",
              "\n",
              "#sk-container-id-1 div.sk-parallel-item:only-child::after {\n",
              "  width: 0;\n",
              "}\n",
              "\n",
              "/* Serial-specific style estimator block */\n",
              "\n",
              "#sk-container-id-1 div.sk-serial {\n",
              "  display: flex;\n",
              "  flex-direction: column;\n",
              "  align-items: center;\n",
              "  background-color: var(--sklearn-color-background);\n",
              "  padding-right: 1em;\n",
              "  padding-left: 1em;\n",
              "}\n",
              "\n",
              "\n",
              "/* Toggleable style: style used for estimator/Pipeline/ColumnTransformer box that is\n",
              "clickable and can be expanded/collapsed.\n",
              "- Pipeline and ColumnTransformer use this feature and define the default style\n",
              "- Estimators will overwrite some part of the style using the `sk-estimator` class\n",
              "*/\n",
              "\n",
              "/* Pipeline and ColumnTransformer style (default) */\n",
              "\n",
              "#sk-container-id-1 div.sk-toggleable {\n",
              "  /* Default theme specific background. It is overwritten whether we have a\n",
              "  specific estimator or a Pipeline/ColumnTransformer */\n",
              "  background-color: var(--sklearn-color-background);\n",
              "}\n",
              "\n",
              "/* Toggleable label */\n",
              "#sk-container-id-1 label.sk-toggleable__label {\n",
              "  cursor: pointer;\n",
              "  display: flex;\n",
              "  width: 100%;\n",
              "  margin-bottom: 0;\n",
              "  padding: 0.5em;\n",
              "  box-sizing: border-box;\n",
              "  text-align: center;\n",
              "  align-items: start;\n",
              "  justify-content: space-between;\n",
              "  gap: 0.5em;\n",
              "}\n",
              "\n",
              "#sk-container-id-1 label.sk-toggleable__label .caption {\n",
              "  font-size: 0.6rem;\n",
              "  font-weight: lighter;\n",
              "  color: var(--sklearn-color-text-muted);\n",
              "}\n",
              "\n",
              "#sk-container-id-1 label.sk-toggleable__label-arrow:before {\n",
              "  /* Arrow on the left of the label */\n",
              "  content: \"▸\";\n",
              "  float: left;\n",
              "  margin-right: 0.25em;\n",
              "  color: var(--sklearn-color-icon);\n",
              "}\n",
              "\n",
              "#sk-container-id-1 label.sk-toggleable__label-arrow:hover:before {\n",
              "  color: var(--sklearn-color-text);\n",
              "}\n",
              "\n",
              "/* Toggleable content - dropdown */\n",
              "\n",
              "#sk-container-id-1 div.sk-toggleable__content {\n",
              "  max-height: 0;\n",
              "  max-width: 0;\n",
              "  overflow: hidden;\n",
              "  text-align: left;\n",
              "  /* unfitted */\n",
              "  background-color: var(--sklearn-color-unfitted-level-0);\n",
              "}\n",
              "\n",
              "#sk-container-id-1 div.sk-toggleable__content.fitted {\n",
              "  /* fitted */\n",
              "  background-color: var(--sklearn-color-fitted-level-0);\n",
              "}\n",
              "\n",
              "#sk-container-id-1 div.sk-toggleable__content pre {\n",
              "  margin: 0.2em;\n",
              "  border-radius: 0.25em;\n",
              "  color: var(--sklearn-color-text);\n",
              "  /* unfitted */\n",
              "  background-color: var(--sklearn-color-unfitted-level-0);\n",
              "}\n",
              "\n",
              "#sk-container-id-1 div.sk-toggleable__content.fitted pre {\n",
              "  /* unfitted */\n",
              "  background-color: var(--sklearn-color-fitted-level-0);\n",
              "}\n",
              "\n",
              "#sk-container-id-1 input.sk-toggleable__control:checked~div.sk-toggleable__content {\n",
              "  /* Expand drop-down */\n",
              "  max-height: 200px;\n",
              "  max-width: 100%;\n",
              "  overflow: auto;\n",
              "}\n",
              "\n",
              "#sk-container-id-1 input.sk-toggleable__control:checked~label.sk-toggleable__label-arrow:before {\n",
              "  content: \"▾\";\n",
              "}\n",
              "\n",
              "/* Pipeline/ColumnTransformer-specific style */\n",
              "\n",
              "#sk-container-id-1 div.sk-label input.sk-toggleable__control:checked~label.sk-toggleable__label {\n",
              "  color: var(--sklearn-color-text);\n",
              "  background-color: var(--sklearn-color-unfitted-level-2);\n",
              "}\n",
              "\n",
              "#sk-container-id-1 div.sk-label.fitted input.sk-toggleable__control:checked~label.sk-toggleable__label {\n",
              "  background-color: var(--sklearn-color-fitted-level-2);\n",
              "}\n",
              "\n",
              "/* Estimator-specific style */\n",
              "\n",
              "/* Colorize estimator box */\n",
              "#sk-container-id-1 div.sk-estimator input.sk-toggleable__control:checked~label.sk-toggleable__label {\n",
              "  /* unfitted */\n",
              "  background-color: var(--sklearn-color-unfitted-level-2);\n",
              "}\n",
              "\n",
              "#sk-container-id-1 div.sk-estimator.fitted input.sk-toggleable__control:checked~label.sk-toggleable__label {\n",
              "  /* fitted */\n",
              "  background-color: var(--sklearn-color-fitted-level-2);\n",
              "}\n",
              "\n",
              "#sk-container-id-1 div.sk-label label.sk-toggleable__label,\n",
              "#sk-container-id-1 div.sk-label label {\n",
              "  /* The background is the default theme color */\n",
              "  color: var(--sklearn-color-text-on-default-background);\n",
              "}\n",
              "\n",
              "/* On hover, darken the color of the background */\n",
              "#sk-container-id-1 div.sk-label:hover label.sk-toggleable__label {\n",
              "  color: var(--sklearn-color-text);\n",
              "  background-color: var(--sklearn-color-unfitted-level-2);\n",
              "}\n",
              "\n",
              "/* Label box, darken color on hover, fitted */\n",
              "#sk-container-id-1 div.sk-label.fitted:hover label.sk-toggleable__label.fitted {\n",
              "  color: var(--sklearn-color-text);\n",
              "  background-color: var(--sklearn-color-fitted-level-2);\n",
              "}\n",
              "\n",
              "/* Estimator label */\n",
              "\n",
              "#sk-container-id-1 div.sk-label label {\n",
              "  font-family: monospace;\n",
              "  font-weight: bold;\n",
              "  display: inline-block;\n",
              "  line-height: 1.2em;\n",
              "}\n",
              "\n",
              "#sk-container-id-1 div.sk-label-container {\n",
              "  text-align: center;\n",
              "}\n",
              "\n",
              "/* Estimator-specific */\n",
              "#sk-container-id-1 div.sk-estimator {\n",
              "  font-family: monospace;\n",
              "  border: 1px dotted var(--sklearn-color-border-box);\n",
              "  border-radius: 0.25em;\n",
              "  box-sizing: border-box;\n",
              "  margin-bottom: 0.5em;\n",
              "  /* unfitted */\n",
              "  background-color: var(--sklearn-color-unfitted-level-0);\n",
              "}\n",
              "\n",
              "#sk-container-id-1 div.sk-estimator.fitted {\n",
              "  /* fitted */\n",
              "  background-color: var(--sklearn-color-fitted-level-0);\n",
              "}\n",
              "\n",
              "/* on hover */\n",
              "#sk-container-id-1 div.sk-estimator:hover {\n",
              "  /* unfitted */\n",
              "  background-color: var(--sklearn-color-unfitted-level-2);\n",
              "}\n",
              "\n",
              "#sk-container-id-1 div.sk-estimator.fitted:hover {\n",
              "  /* fitted */\n",
              "  background-color: var(--sklearn-color-fitted-level-2);\n",
              "}\n",
              "\n",
              "/* Specification for estimator info (e.g. \"i\" and \"?\") */\n",
              "\n",
              "/* Common style for \"i\" and \"?\" */\n",
              "\n",
              ".sk-estimator-doc-link,\n",
              "a:link.sk-estimator-doc-link,\n",
              "a:visited.sk-estimator-doc-link {\n",
              "  float: right;\n",
              "  font-size: smaller;\n",
              "  line-height: 1em;\n",
              "  font-family: monospace;\n",
              "  background-color: var(--sklearn-color-background);\n",
              "  border-radius: 1em;\n",
              "  height: 1em;\n",
              "  width: 1em;\n",
              "  text-decoration: none !important;\n",
              "  margin-left: 0.5em;\n",
              "  text-align: center;\n",
              "  /* unfitted */\n",
              "  border: var(--sklearn-color-unfitted-level-1) 1pt solid;\n",
              "  color: var(--sklearn-color-unfitted-level-1);\n",
              "}\n",
              "\n",
              ".sk-estimator-doc-link.fitted,\n",
              "a:link.sk-estimator-doc-link.fitted,\n",
              "a:visited.sk-estimator-doc-link.fitted {\n",
              "  /* fitted */\n",
              "  border: var(--sklearn-color-fitted-level-1) 1pt solid;\n",
              "  color: var(--sklearn-color-fitted-level-1);\n",
              "}\n",
              "\n",
              "/* On hover */\n",
              "div.sk-estimator:hover .sk-estimator-doc-link:hover,\n",
              ".sk-estimator-doc-link:hover,\n",
              "div.sk-label-container:hover .sk-estimator-doc-link:hover,\n",
              ".sk-estimator-doc-link:hover {\n",
              "  /* unfitted */\n",
              "  background-color: var(--sklearn-color-unfitted-level-3);\n",
              "  color: var(--sklearn-color-background);\n",
              "  text-decoration: none;\n",
              "}\n",
              "\n",
              "div.sk-estimator.fitted:hover .sk-estimator-doc-link.fitted:hover,\n",
              ".sk-estimator-doc-link.fitted:hover,\n",
              "div.sk-label-container:hover .sk-estimator-doc-link.fitted:hover,\n",
              ".sk-estimator-doc-link.fitted:hover {\n",
              "  /* fitted */\n",
              "  background-color: var(--sklearn-color-fitted-level-3);\n",
              "  color: var(--sklearn-color-background);\n",
              "  text-decoration: none;\n",
              "}\n",
              "\n",
              "/* Span, style for the box shown on hovering the info icon */\n",
              ".sk-estimator-doc-link span {\n",
              "  display: none;\n",
              "  z-index: 9999;\n",
              "  position: relative;\n",
              "  font-weight: normal;\n",
              "  right: .2ex;\n",
              "  padding: .5ex;\n",
              "  margin: .5ex;\n",
              "  width: min-content;\n",
              "  min-width: 20ex;\n",
              "  max-width: 50ex;\n",
              "  color: var(--sklearn-color-text);\n",
              "  box-shadow: 2pt 2pt 4pt #999;\n",
              "  /* unfitted */\n",
              "  background: var(--sklearn-color-unfitted-level-0);\n",
              "  border: .5pt solid var(--sklearn-color-unfitted-level-3);\n",
              "}\n",
              "\n",
              ".sk-estimator-doc-link.fitted span {\n",
              "  /* fitted */\n",
              "  background: var(--sklearn-color-fitted-level-0);\n",
              "  border: var(--sklearn-color-fitted-level-3);\n",
              "}\n",
              "\n",
              ".sk-estimator-doc-link:hover span {\n",
              "  display: block;\n",
              "}\n",
              "\n",
              "/* \"?\"-specific style due to the `<a>` HTML tag */\n",
              "\n",
              "#sk-container-id-1 a.estimator_doc_link {\n",
              "  float: right;\n",
              "  font-size: 1rem;\n",
              "  line-height: 1em;\n",
              "  font-family: monospace;\n",
              "  background-color: var(--sklearn-color-background);\n",
              "  border-radius: 1rem;\n",
              "  height: 1rem;\n",
              "  width: 1rem;\n",
              "  text-decoration: none;\n",
              "  /* unfitted */\n",
              "  color: var(--sklearn-color-unfitted-level-1);\n",
              "  border: var(--sklearn-color-unfitted-level-1) 1pt solid;\n",
              "}\n",
              "\n",
              "#sk-container-id-1 a.estimator_doc_link.fitted {\n",
              "  /* fitted */\n",
              "  border: var(--sklearn-color-fitted-level-1) 1pt solid;\n",
              "  color: var(--sklearn-color-fitted-level-1);\n",
              "}\n",
              "\n",
              "/* On hover */\n",
              "#sk-container-id-1 a.estimator_doc_link:hover {\n",
              "  /* unfitted */\n",
              "  background-color: var(--sklearn-color-unfitted-level-3);\n",
              "  color: var(--sklearn-color-background);\n",
              "  text-decoration: none;\n",
              "}\n",
              "\n",
              "#sk-container-id-1 a.estimator_doc_link.fitted:hover {\n",
              "  /* fitted */\n",
              "  background-color: var(--sklearn-color-fitted-level-3);\n",
              "}\n",
              "</style><div id=\"sk-container-id-1\" class=\"sk-top-container\"><div class=\"sk-text-repr-fallback\"><pre>LinearRegression()</pre><b>In a Jupyter environment, please rerun this cell to show the HTML representation or trust the notebook. <br />On GitHub, the HTML representation is unable to render, please try loading this page with nbviewer.org.</b></div><div class=\"sk-container\" hidden><div class=\"sk-item\"><div class=\"sk-estimator fitted sk-toggleable\"><input class=\"sk-toggleable__control sk-hidden--visually\" id=\"sk-estimator-id-1\" type=\"checkbox\" checked><label for=\"sk-estimator-id-1\" class=\"sk-toggleable__label fitted sk-toggleable__label-arrow\"><div><div>LinearRegression</div></div><div><a class=\"sk-estimator-doc-link fitted\" rel=\"noreferrer\" target=\"_blank\" href=\"https://scikit-learn.org/1.6/modules/generated/sklearn.linear_model.LinearRegression.html\">?<span>Documentation for LinearRegression</span></a><span class=\"sk-estimator-doc-link fitted\">i<span>Fitted</span></span></div></label><div class=\"sk-toggleable__content fitted\"><pre>LinearRegression()</pre></div> </div></div></div></div>"
            ]
          },
          "metadata": {},
          "execution_count": 29
        }
      ],
      "source": [
        "regr = linear_model.LinearRegression()\n",
        "regr.fit(X_tr,y_tr)"
      ]
    },
    {
      "cell_type": "markdown",
      "metadata": {
        "id": "st3RsxRKBwvk"
      },
      "source": [
        "You can see the coefficients"
      ]
    },
    {
      "cell_type": "code",
      "execution_count": 30,
      "metadata": {
        "id": "h5ywXMBXBwvk",
        "outputId": "9ab75c58-e4fc-4f4b-9121-af6846177a11",
        "colab": {
          "base_uri": "https://localhost:8080/"
        }
      },
      "outputs": [
        {
          "output_type": "execute_result",
          "data": {
            "text/plain": [
              "np.float64(152.34779643323938)"
            ]
          },
          "metadata": {},
          "execution_count": 30
        }
      ],
      "source": [
        "regr.intercept_"
      ]
    },
    {
      "cell_type": "code",
      "execution_count": 31,
      "metadata": {
        "id": "1IenCwn1Bwvk",
        "outputId": "582a0db6-f313-46a0-93bf-8fbb7415c868",
        "colab": {
          "base_uri": "https://localhost:8080/"
        }
      },
      "outputs": [
        {
          "output_type": "execute_result",
          "data": {
            "text/plain": [
              "array([ -16.57338609, -254.66343751,  560.9894609 ,  278.90965232,\n",
              "       -393.45557666,   97.08855335,  -18.9842756 ,  169.46616165,\n",
              "        632.96847103,  114.21833048])"
            ]
          },
          "metadata": {},
          "execution_count": 31
        }
      ],
      "source": [
        "regr.coef_"
      ]
    },
    {
      "cell_type": "markdown",
      "metadata": {
        "id": "BlCnfbEcBwvk"
      },
      "source": [
        "We next compute the RSS (per sample) and the R^2 on the training data"
      ]
    },
    {
      "cell_type": "code",
      "execution_count": 32,
      "metadata": {
        "id": "cZWZhx19Bwvk",
        "outputId": "8359f0a6-8704-4b43-a397-6fe80638b529",
        "colab": {
          "base_uri": "https://localhost:8080/"
        }
      },
      "outputs": [
        {
          "output_type": "stream",
          "name": "stdout",
          "text": [
            "RSS per sample = 0.485281\n",
            "R^2 =            0.514719\n"
          ]
        }
      ],
      "source": [
        "y_tr_pred = regr.predict(X_tr)\n",
        "RSS_tr = np.mean((y_tr_pred-y_tr)**2)/(np.std(y_tr)**2)\n",
        "Rsq_tr = 1-RSS_tr\n",
        "print(\"RSS per sample = {0:f}\".format(RSS_tr))\n",
        "print(\"R^2 =            {0:f}\".format(Rsq_tr))"
      ]
    },
    {
      "cell_type": "markdown",
      "metadata": {
        "id": "4zsoixgdBwvk"
      },
      "source": [
        "We see R^2 is higher than the best single variable model -- more than 51% of the target variance is explained by the model instead of just 34% for the best single variable model.  \n",
        "\n",
        "We also create a scatter plot of predicted vs. actual"
      ]
    },
    {
      "cell_type": "code",
      "execution_count": 33,
      "metadata": {
        "id": "a_vAYDzWBwvk",
        "outputId": "e04977d2-ddb1-422e-cce0-f68d298c9b30",
        "colab": {
          "base_uri": "https://localhost:8080/",
          "height": 449
        }
      },
      "outputs": [
        {
          "output_type": "display_data",
          "data": {
            "text/plain": [
              "<Figure size 640x480 with 1 Axes>"
            ],
            "image/png": "[encoded data removed]"
          },
          "metadata": {}
        }
      ],
      "source": [
        "plt.scatter(y_tr,y_tr_pred)\n",
        "plt.plot([0,350],[0,350],'r')\n",
        "plt.xlabel('Actual')\n",
        "plt.ylabel('Predicted')\n",
        "plt.grid()"
      ]
    },
    {
      "cell_type": "markdown",
      "metadata": {
        "id": "Te7P1p11Bwvk"
      },
      "source": [
        "## Validate on Test Data\n",
        "\n",
        "As we will explain in the next lab, one should not evaluate the performance of a model on the data on which it is trained.  It is important to see how the model works on *new* data that is independent of the training data set.  For this reason, we will evaluate the model on the *test* samples that were not used in training."
      ]
    },
    {
      "cell_type": "code",
      "execution_count": 34,
      "metadata": {
        "id": "wULTiyBEBwvk",
        "outputId": "684f1cca-239d-44ee-91cd-d5c24cefedf8",
        "colab": {
          "base_uri": "https://localhost:8080/"
        }
      },
      "outputs": [
        {
          "output_type": "stream",
          "name": "stdout",
          "text": [
            "RSS per sample = 0.492804\n",
            "R^2 =            0.507196\n"
          ]
        }
      ],
      "source": [
        "X_test = X[ns_train:,:]\n",
        "y_test = y[ns_train:]\n",
        "y_test_pred = regr.predict(X_test)\n",
        "RSS_test = np.mean((y_test_pred-y_test)**2)/(np.std(y_test)**2)\n",
        "Rsq_test = 1-RSS_test\n",
        "print(\"RSS per sample = {0:f}\".format(RSS_test))\n",
        "print(\"R^2 =            {0:f}\".format(Rsq_test))"
      ]
    },
    {
      "cell_type": "markdown",
      "metadata": {
        "id": "cd6FXizhBwvk"
      },
      "source": [
        "We see that the model predicts new samples almost as well as it did the training samples.  We can also plot the fit on the test data."
      ]
    },
    {
      "cell_type": "code",
      "execution_count": 35,
      "metadata": {
        "id": "cV3hlN-wBwvk",
        "outputId": "efed8849-65fc-4ed8-d241-ac60c3f77ec3",
        "colab": {
          "base_uri": "https://localhost:8080/",
          "height": 449
        }
      },
      "outputs": [
        {
          "output_type": "display_data",
          "data": {
            "text/plain": [
              "<Figure size 640x480 with 1 Axes>"
            ],
            "image/png": "[encoded data removed]"
          },
          "metadata": {}
        }
      ],
      "source": [
        "plt.scatter(y_test,y_test_pred)\n",
        "plt.plot([0,350],[0,350],'r')\n",
        "plt.xlabel('Actual')\n",
        "plt.xlabel('Predicted')\n",
        "plt.grid()"
      ]
    },
    {
      "cell_type": "markdown",
      "metadata": {
        "id": "iybkPD8iBwvk"
      },
      "source": [
        "## Manually Computing the Coefficients"
      ]
    },
    {
      "cell_type": "markdown",
      "metadata": {
        "id": "X4RwvZ5sBwvn"
      },
      "source": [
        "We can manually compute the regression coefficients using the least-squares matrix formula in class.  Of course, using the `sklearn` package is easier.  I illustrate the manual computation only to show what is happening \"under the hood\" of the linear regression routine.\n",
        "\n",
        "To compute the coefficients manually, we first construct the matrix $\\mathbf{A} = [ \\mathbf{1} ~ \\mathbf{X} ]$.  This is performed with the `ones` command and `hstack`.  Note that after we do this, `A` has 11 columns -- one more column that the data matrix `X_tr`."
      ]
    },
    {
      "cell_type": "code",
      "execution_count": 36,
      "metadata": {
        "id": "7j9RX4spBwvn",
        "outputId": "90807df7-096a-4773-80b5-99c718d29f7f",
        "colab": {
          "base_uri": "https://localhost:8080/"
        }
      },
      "outputs": [
        {
          "output_type": "execute_result",
          "data": {
            "text/plain": [
              "(300, 11)"
            ]
          },
          "metadata": {},
          "execution_count": 36
        }
      ],
      "source": [
        "ones = np.ones((ns_train,1))\n",
        "A = np.hstack((ones,X_tr))\n",
        "A.shape"
      ]
    },
    {
      "cell_type": "markdown",
      "metadata": {
        "id": "d4m4UZdhBwvn"
      },
      "source": [
        "We next use the `lstsq` method to solve $\\mathbf{y} \\approx \\mathbf{A\\beta}$.  This will find the desired least-squares fit."
      ]
    },
    {
      "cell_type": "code",
      "execution_count": 37,
      "metadata": {
        "id": "YLaG4nhYBwvn"
      },
      "outputs": [],
      "source": [
        "out = np.linalg.lstsq(A,y_tr,rcond=None)\n",
        "beta = out[0]"
      ]
    },
    {
      "cell_type": "markdown",
      "metadata": {
        "id": "64A1C0IuBwvn"
      },
      "source": [
        "We can see the coefficients"
      ]
    },
    {
      "cell_type": "code",
      "execution_count": 38,
      "metadata": {
        "id": "1sD58Q50Bwvn",
        "outputId": "55eb2948-82f1-4ca5-e6b6-f725d710a25d",
        "colab": {
          "base_uri": "https://localhost:8080/"
        }
      },
      "outputs": [
        {
          "output_type": "execute_result",
          "data": {
            "text/plain": [
              "array([ 152.34779643,  -16.57338609, -254.66343751,  560.9894609 ,\n",
              "        278.90965232, -393.45557666,   97.08855335,  -18.9842756 ,\n",
              "        169.46616165,  632.96847103,  114.21833048])"
            ]
          },
          "metadata": {},
          "execution_count": 38
        }
      ],
      "source": [
        "beta"
      ]
    },
    {
      "cell_type": "markdown",
      "metadata": {
        "id": "d6giF3DpBwvn"
      },
      "source": [
        "We see that `beta[0]` mathches the intercept in `regr.intercept_` from the regression fit and `beta[1:]` matches the coefficients in `regr.coef_`."
      ]
    },
    {
      "cell_type": "code",
      "execution_count": 39,
      "metadata": {
        "id": "uLSWUs74Bwvn",
        "outputId": "88e6e489-011c-476f-d2a7-cb533bdee886",
        "colab": {
          "base_uri": "https://localhost:8080/"
        }
      },
      "outputs": [
        {
          "output_type": "execute_result",
          "data": {
            "text/plain": [
              "array([ -16.57338609, -254.66343751,  560.9894609 ,  278.90965232,\n",
              "       -393.45557666,   97.08855335,  -18.9842756 ,  169.46616165,\n",
              "        632.96847103,  114.21833048])"
            ]
          },
          "metadata": {},
          "execution_count": 39
        }
      ],
      "source": [
        "regr.coef_"
      ]
    },
    {
      "cell_type": "code",
      "execution_count": 40,
      "metadata": {
        "id": "GK1-sHofBwvn",
        "outputId": "5256fc5e-8b04-4511-fdfb-69ad94a7078c",
        "colab": {
          "base_uri": "https://localhost:8080/"
        }
      },
      "outputs": [
        {
          "output_type": "execute_result",
          "data": {
            "text/plain": [
              "np.float64(152.34779643323938)"
            ]
          },
          "metadata": {},
          "execution_count": 40
        }
      ],
      "source": [
        "regr.intercept_"
      ]
    },
    {
      "cell_type": "markdown",
      "metadata": {
        "id": "i1wrd6vOBwvn"
      },
      "source": [
        "Now let us verify this is the same as direct matrix calculation.  For a small problem like this, it makes no difference.  But, in general, using a matrix inverse like this is *much* slower computationally than using either the `lstsq` method or the `LinearRegression` class.  So, **do not ever** solve a least squares problem like this."
      ]
    },
    {
      "cell_type": "code",
      "execution_count": 41,
      "metadata": {
        "id": "GRwa0Hc0Bwvn",
        "outputId": "15846ec7-8a89-45af-c063-864948ed4c73",
        "colab": {
          "base_uri": "https://localhost:8080/"
        }
      },
      "outputs": [
        {
          "output_type": "stream",
          "name": "stdout",
          "text": [
            "[ 152.34779643  -16.57338609 -254.66343751  560.9894609   278.90965232\n",
            " -393.45557666   97.08855335  -18.9842756   169.46616165  632.96847103\n",
            "  114.21833048]\n"
          ]
        }
      ],
      "source": [
        "beta = np.linalg.inv(A.T.dot(A)).dot(A.T.dot(y_tr))\n",
        "print(beta)"
      ]
    },
    {
      "cell_type": "markdown",
      "metadata": {
        "collapsed": true,
        "id": "L_sWdNLiBwvn"
      },
      "source": [
        "## In-Class Simple Exercise\n",
        "\n",
        "You are given target values `y` and features `x1` and `x2` below.  Fit the model on the first 4 data points and test the model on the fifth data point.  You may want to use the following steps\n",
        "\n",
        "*  Construct the training training data `X_tr,y_tr`\n",
        "*  Create a regression object `regr = linear_model.LinearRegression()`\n",
        "*  Fit the model with the `regr.fit()` method\n",
        "*  Predict the value on the test value with the `regr.predict()`"
      ]
    },
    {
      "cell_type": "code",
      "execution_count": 67,
      "metadata": {
        "id": "9mb7eWfBBwvn",
        "outputId": "f94d168c-48d8-4f52-bb3a-02c29e57755b",
        "colab": {
          "base_uri": "https://localhost:8080/"
        }
      },
      "outputs": [
        {
          "output_type": "execute_result",
          "data": {
            "text/plain": [
              "array([[15.98170828]])"
            ]
          },
          "metadata": {},
          "execution_count": 67
        }
      ],
      "source": [
        "x1 = np.array([0,1,3,5,4])\n",
        "x2 = np.array([0,0.7, 4.3, 15.1, 13.2])\n",
        "y = np.array([-2, -0.9, 1.5, 18, 13])\n",
        "\n",
        "\n",
        "X_tr=np.hstack((x1[:4].reshape(-1,1),x2[:4].reshape(-1,1)))\n",
        "y_tr=y[:4].reshape(-1,1)\n",
        "\n",
        "regr = linear_model.LinearRegression()\n",
        "regr.fit(X_tr,y_tr)\n",
        "regr.predict(np.hstack((x1[4:].reshape(-1,1),x2[4:].reshape(-1,1))))"
      ]
    },
    {
      "cell_type": "code",
      "execution_count": null,
      "metadata": {
        "id": "85RSSK3iBwvn"
      },
      "outputs": [],
      "source": [
        "\n"
      ]
    }
  ],
  "metadata": {
    "anaconda-cloud": {},
    "kernelspec": {
      "display_name": "Python 3",
      "language": "python",
      "name": "python3"
    },
    "language_info": {
      "codemirror_mode": {
        "name": "ipython",
        "version": 3
      },
      "file_extension": ".py",
      "mimetype": "text/x-python",
      "name": "python",
      "nbconvert_exporter": "python",
      "pygments_lexer": "ipython3",
      "version": "3.7.4"
    },
    "colab": {
      "provenance": []
    }
  },
  "nbformat": 4,
  "nbformat_minor": 0
}